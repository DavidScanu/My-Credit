{
 "cells": [
  {
   "cell_type": "code",
   "execution_count": 35,
   "metadata": {},
   "outputs": [
    {
     "data": {
      "text/plain": [
       "<Response [200]>"
      ]
     },
     "execution_count": 35,
     "metadata": {},
     "output_type": "execute_result"
    }
   ],
   "source": [
    "import requests\n",
    "\n",
    "ex_json_dict = eval(\"\"\"{'age': 34, 'job': 'entrepreneur', 'marital': 'married', 'education': 'tertiary', 'default': 'yes', 'balance': 35266, 'housing': 'yes', 'loan': 'no', 'contact': 'telephone', 'day': 15, 'month': 'aug', 'duration': 80, 'campaign': 2, 'pdays': 1, 'previous': 5}\"\"\")\n",
    "\n",
    "response = requests.post(\n",
    "  'http://localhost:8000/predict',\n",
    "  json = ex_json_dict\n",
    ")\n",
    "response"
   ]
  },
  {
   "cell_type": "code",
   "execution_count": 36,
   "metadata": {},
   "outputs": [
    {
     "data": {
      "text/plain": [
       "{'prediction': 0, 'score': 0.9918603897094727}"
      ]
     },
     "execution_count": 36,
     "metadata": {},
     "output_type": "execute_result"
    }
   ],
   "source": [
    "resp_json = response.json()\n",
    "resp_json"
   ]
  },
  {
   "cell_type": "code",
   "execution_count": 37,
   "metadata": {},
   "outputs": [
    {
     "data": {
      "text/plain": [
       "dict"
      ]
     },
     "execution_count": 37,
     "metadata": {},
     "output_type": "execute_result"
    }
   ],
   "source": [
    "type(resp_json)"
   ]
  },
  {
   "cell_type": "code",
   "execution_count": 33,
   "metadata": {},
   "outputs": [
    {
     "data": {
      "text/plain": [
       "0"
      ]
     },
     "execution_count": 33,
     "metadata": {},
     "output_type": "execute_result"
    }
   ],
   "source": [
    "resp_json['prediction']"
   ]
  },
  {
   "cell_type": "code",
   "execution_count": 34,
   "metadata": {},
   "outputs": [
    {
     "data": {
      "text/plain": [
       "0"
      ]
     },
     "execution_count": 34,
     "metadata": {},
     "output_type": "execute_result"
    }
   ],
   "source": [
    "response.json()['prediction']"
   ]
  },
  {
   "cell_type": "code",
   "execution_count": 1,
   "metadata": {},
   "outputs": [
    {
     "data": {
      "text/plain": [
       "[array(['Female', 'Male'], dtype=object), array(['dev', 'prod'], dtype=object)]"
      ]
     },
     "execution_count": 1,
     "metadata": {},
     "output_type": "execute_result"
    }
   ],
   "source": [
    "from sklearn.preprocessing import OneHotEncoder\n",
    "\n",
    "enc = OneHotEncoder(handle_unknown='ignore')\n",
    "X = [['Male', 'dev'], ['Female', 'prod'], ['Female', 'dev']]\n",
    "enc.fit(X)\n",
    "enc.categories_"
   ]
  },
  {
   "cell_type": "code",
   "execution_count": 8,
   "metadata": {},
   "outputs": [
    {
     "name": "stdout",
     "output_type": "stream",
     "text": [
      "30\n"
     ]
    }
   ],
   "source": [
    "import json\n",
    "\n",
    "# some JSON:\n",
    "x =  '{ \"name\":\"John\", \"age\":30, \"city\":\"New York\"}'\n",
    "\n",
    "# parse x:\n",
    "y = json.loads(x)\n",
    "\n",
    "# the result is a Python dictionary:\n",
    "print(y[\"age\"])"
   ]
  },
  {
   "cell_type": "code",
   "execution_count": 9,
   "metadata": {},
   "outputs": [
    {
     "data": {
      "text/plain": [
       "{'age': 25,\n",
       " 'job': 'management',\n",
       " 'marital': 'married',\n",
       " 'education': 'secondary',\n",
       " 'default': False,\n",
       " 'balance': 30000,\n",
       " 'housing': False,\n",
       " 'loan': False,\n",
       " 'contact': 'inconnu',\n",
       " 'day': None,\n",
       " 'month': None,\n",
       " 'duration': 0,\n",
       " 'campaign': 0,\n",
       " 'pdays': False,\n",
       " 'previous': 0}"
      ]
     },
     "execution_count": 9,
     "metadata": {},
     "output_type": "execute_result"
    }
   ],
   "source": [
    "eval(\"{'age': 25, 'job': 'management', 'marital': 'married', 'education': 'secondary', 'default': False, 'balance': 30000, 'housing': False, 'loan': False, 'contact': 'inconnu', 'day': None, 'month': None, 'duration': 0, 'campaign': 0, 'pdays': False, 'previous': 0}\")"
   ]
  },
  {
   "cell_type": "code",
   "execution_count": 10,
   "metadata": {},
   "outputs": [
    {
     "data": {
      "text/plain": [
       "{'no': 0, 'yes': 1}"
      ]
     },
     "execution_count": 10,
     "metadata": {},
     "output_type": "execute_result"
    }
   ],
   "source": [
    "import os \n",
    "\n",
    "# Import encoding dictionnary\n",
    "def import_json_file(file_path):\n",
    "  if os.path.exists(file_path):\n",
    "    with open(file_path, \"r\") as f:\n",
    "        data_json = json.load(f)\n",
    "  else:\n",
    "    print(\"The file does not exist.\")\n",
    "  return data_json\n",
    "\n",
    "encode_dict = import_json_file(\"encode_dict.json\")\n",
    "encode_dict['default']"
   ]
  },
  {
   "cell_type": "code",
   "execution_count": 16,
   "metadata": {},
   "outputs": [
    {
     "data": {
      "text/plain": [
       "{'age': 25,\n",
       " 'job': 'management',\n",
       " 'marital': 'married',\n",
       " 'education': 'secondary',\n",
       " 'default': 'no',\n",
       " 'balance': 30000,\n",
       " 'housing': 'yes',\n",
       " 'loan': 'no',\n",
       " 'contact': 'unknown',\n",
       " 'day': 5,\n",
       " 'month': 'dec',\n",
       " 'duration': 3,\n",
       " 'campaign': 2,\n",
       " 'pdays': 0,\n",
       " 'previous': 0}"
      ]
     },
     "execution_count": 16,
     "metadata": {},
     "output_type": "execute_result"
    }
   ],
   "source": [
    "ex_json_str = \"{'age': 25, 'job': 'management', 'marital': 'married', 'education': 'secondary', 'default': 'no', 'balance': 30000, 'housing': 'yes', 'loan': 'no', 'contact': 'unknown', 'day': 5, 'month': 'dec', 'duration': 3, 'campaign': 2, 'pdays': 0, 'previous': 0}\"\n",
    "ex_json_dict = eval(ex_json_str)\n",
    "ex_json_dict"
   ]
  },
  {
   "cell_type": "code",
   "execution_count": 17,
   "metadata": {},
   "outputs": [],
   "source": [
    "def encode_features(params_json_dict, encode_dict):\n",
    "    for key, value in params_json_dict.items():\n",
    "        # print(key, value)\n",
    "        if key in encode_dict:\n",
    "            if value != None:\n",
    "                value_encoded = encode_dict[key][value]\n",
    "                params_json_dict[key] = value_encoded\n",
    "    print(params_json_dict)\n",
    "    # return params_json_dict\n"
   ]
  },
  {
   "cell_type": "code",
   "execution_count": 18,
   "metadata": {},
   "outputs": [
    {
     "name": "stdout",
     "output_type": "stream",
     "text": [
      "{'age': 25, 'job': 4, 'marital': 1, 'education': 1, 'default': 0, 'balance': 30000, 'housing': 1, 'loan': 0, 'contact': 2, 'day': 5, 'month': 2, 'duration': 3, 'campaign': 2, 'pdays': 0, 'previous': 0}\n"
     ]
    }
   ],
   "source": [
    "encode_features(ex_json_dict, encode_dict)"
   ]
  },
  {
   "cell_type": "code",
   "execution_count": 66,
   "metadata": {},
   "outputs": [
    {
     "data": {
      "text/plain": [
       "0"
      ]
     },
     "execution_count": 66,
     "metadata": {},
     "output_type": "execute_result"
    }
   ],
   "source": [
    "encode_dict['job']['admin.']"
   ]
  },
  {
   "cell_type": "code",
   "execution_count": 2,
   "metadata": {},
   "outputs": [],
   "source": [
    "# Prediction\n",
    "def make_prediction(params_json):\n",
    "  \"\"\"\n",
    "  Fonction qui réalise une prédiction à partir du JSON.\n",
    "  \"\"\"\n",
    "  # Parse JSON\n",
    "  # params_dict = eval(params_json) # dict\n",
    "  # Encoder\n",
    "  params_enc = encode_features(params_json) # dict\n",
    "  # Convert into DataFrame\n",
    "  params_enc_df = pd.DataFrame(params_enc, index=[0]) # df\n",
    "  # Scaler\n",
    "  params_scaled = scaler.transform(params_enc_df) # ndarray\n",
    "  # Prediction\n",
    "  pred_proba = model.predict_proba(params_scaled)\n",
    "  y_pred = np.argmax(pred_proba)\n",
    "  pred_score = pred_proba.max()\n",
    "  # Results\n",
    "  results = {\n",
    "    \"prediction\" : y_pred,\n",
    "    \"score\" : pred_score\n",
    "    # \"feature_importance\" : [1, 2 ,3]\n",
    "  }\n",
    "  return results\n"
   ]
  },
  {
   "cell_type": "code",
   "execution_count": 3,
   "metadata": {},
   "outputs": [
    {
     "ename": "NameError",
     "evalue": "name 'encode_features' is not defined",
     "output_type": "error",
     "traceback": [
      "\u001b[0;31m---------------------------------------------------------------------------\u001b[0m",
      "\u001b[0;31mNameError\u001b[0m                                 Traceback (most recent call last)",
      "\u001b[1;32m/home/david/workspace/brief-devops-kevin-duranty/My-Credit/notebook-playground.ipynb Cell 18\u001b[0m line \u001b[0;36m2\n\u001b[1;32m      <a href='vscode-notebook-cell://wsl%2Bubuntu/home/david/workspace/brief-devops-kevin-duranty/My-Credit/notebook-playground.ipynb#X23sdnNjb2RlLXJlbW90ZQ%3D%3D?line=0'>1</a>\u001b[0m ex_json_dict \u001b[39m=\u001b[39m \u001b[39meval\u001b[39m(\u001b[39m\"\"\"\u001b[39m\u001b[39m{\u001b[39m\u001b[39m'\u001b[39m\u001b[39mage\u001b[39m\u001b[39m'\u001b[39m\u001b[39m: 34, \u001b[39m\u001b[39m'\u001b[39m\u001b[39mjob\u001b[39m\u001b[39m'\u001b[39m\u001b[39m: \u001b[39m\u001b[39m'\u001b[39m\u001b[39mentrepreneur\u001b[39m\u001b[39m'\u001b[39m\u001b[39m, \u001b[39m\u001b[39m'\u001b[39m\u001b[39mmarital\u001b[39m\u001b[39m'\u001b[39m\u001b[39m: \u001b[39m\u001b[39m'\u001b[39m\u001b[39mmarried\u001b[39m\u001b[39m'\u001b[39m\u001b[39m, \u001b[39m\u001b[39m'\u001b[39m\u001b[39meducation\u001b[39m\u001b[39m'\u001b[39m\u001b[39m: \u001b[39m\u001b[39m'\u001b[39m\u001b[39mtertiary\u001b[39m\u001b[39m'\u001b[39m\u001b[39m, \u001b[39m\u001b[39m'\u001b[39m\u001b[39mdefault\u001b[39m\u001b[39m'\u001b[39m\u001b[39m: \u001b[39m\u001b[39m'\u001b[39m\u001b[39myes\u001b[39m\u001b[39m'\u001b[39m\u001b[39m, \u001b[39m\u001b[39m'\u001b[39m\u001b[39mbalance\u001b[39m\u001b[39m'\u001b[39m\u001b[39m: 35266, \u001b[39m\u001b[39m'\u001b[39m\u001b[39mhousing\u001b[39m\u001b[39m'\u001b[39m\u001b[39m: \u001b[39m\u001b[39m'\u001b[39m\u001b[39myes\u001b[39m\u001b[39m'\u001b[39m\u001b[39m, \u001b[39m\u001b[39m'\u001b[39m\u001b[39mloan\u001b[39m\u001b[39m'\u001b[39m\u001b[39m: \u001b[39m\u001b[39m'\u001b[39m\u001b[39mno\u001b[39m\u001b[39m'\u001b[39m\u001b[39m, \u001b[39m\u001b[39m'\u001b[39m\u001b[39mcontact\u001b[39m\u001b[39m'\u001b[39m\u001b[39m: \u001b[39m\u001b[39m'\u001b[39m\u001b[39mtelephone\u001b[39m\u001b[39m'\u001b[39m\u001b[39m, \u001b[39m\u001b[39m'\u001b[39m\u001b[39mday\u001b[39m\u001b[39m'\u001b[39m\u001b[39m: 15, \u001b[39m\u001b[39m'\u001b[39m\u001b[39mmonth\u001b[39m\u001b[39m'\u001b[39m\u001b[39m: \u001b[39m\u001b[39m'\u001b[39m\u001b[39maug\u001b[39m\u001b[39m'\u001b[39m\u001b[39m, \u001b[39m\u001b[39m'\u001b[39m\u001b[39mduration\u001b[39m\u001b[39m'\u001b[39m\u001b[39m: 80, \u001b[39m\u001b[39m'\u001b[39m\u001b[39mcampaign\u001b[39m\u001b[39m'\u001b[39m\u001b[39m: 2, \u001b[39m\u001b[39m'\u001b[39m\u001b[39mpdays\u001b[39m\u001b[39m'\u001b[39m\u001b[39m: 1, \u001b[39m\u001b[39m'\u001b[39m\u001b[39mprevious\u001b[39m\u001b[39m'\u001b[39m\u001b[39m: 5}\u001b[39m\u001b[39m\"\"\"\u001b[39m)\n\u001b[0;32m----> <a href='vscode-notebook-cell://wsl%2Bubuntu/home/david/workspace/brief-devops-kevin-duranty/My-Credit/notebook-playground.ipynb#X23sdnNjb2RlLXJlbW90ZQ%3D%3D?line=1'>2</a>\u001b[0m make_prediction(ex_json_dict)\n",
      "\u001b[1;32m/home/david/workspace/brief-devops-kevin-duranty/My-Credit/notebook-playground.ipynb Cell 18\u001b[0m line \u001b[0;36m9\n\u001b[1;32m      <a href='vscode-notebook-cell://wsl%2Bubuntu/home/david/workspace/brief-devops-kevin-duranty/My-Credit/notebook-playground.ipynb#X23sdnNjb2RlLXJlbW90ZQ%3D%3D?line=2'>3</a>\u001b[0m \u001b[39m\u001b[39m\u001b[39m\"\"\"\u001b[39;00m\n\u001b[1;32m      <a href='vscode-notebook-cell://wsl%2Bubuntu/home/david/workspace/brief-devops-kevin-duranty/My-Credit/notebook-playground.ipynb#X23sdnNjb2RlLXJlbW90ZQ%3D%3D?line=3'>4</a>\u001b[0m \u001b[39mFonction qui réalise une prédiction à partir du JSON.\u001b[39;00m\n\u001b[1;32m      <a href='vscode-notebook-cell://wsl%2Bubuntu/home/david/workspace/brief-devops-kevin-duranty/My-Credit/notebook-playground.ipynb#X23sdnNjb2RlLXJlbW90ZQ%3D%3D?line=4'>5</a>\u001b[0m \u001b[39m\"\"\"\u001b[39;00m\n\u001b[1;32m      <a href='vscode-notebook-cell://wsl%2Bubuntu/home/david/workspace/brief-devops-kevin-duranty/My-Credit/notebook-playground.ipynb#X23sdnNjb2RlLXJlbW90ZQ%3D%3D?line=5'>6</a>\u001b[0m \u001b[39m# Parse JSON\u001b[39;00m\n\u001b[1;32m      <a href='vscode-notebook-cell://wsl%2Bubuntu/home/david/workspace/brief-devops-kevin-duranty/My-Credit/notebook-playground.ipynb#X23sdnNjb2RlLXJlbW90ZQ%3D%3D?line=6'>7</a>\u001b[0m \u001b[39m# params_dict = eval(params_json) # dict\u001b[39;00m\n\u001b[1;32m      <a href='vscode-notebook-cell://wsl%2Bubuntu/home/david/workspace/brief-devops-kevin-duranty/My-Credit/notebook-playground.ipynb#X23sdnNjb2RlLXJlbW90ZQ%3D%3D?line=7'>8</a>\u001b[0m \u001b[39m# Encoder\u001b[39;00m\n\u001b[0;32m----> <a href='vscode-notebook-cell://wsl%2Bubuntu/home/david/workspace/brief-devops-kevin-duranty/My-Credit/notebook-playground.ipynb#X23sdnNjb2RlLXJlbW90ZQ%3D%3D?line=8'>9</a>\u001b[0m params_enc \u001b[39m=\u001b[39m encode_features(params_json) \u001b[39m# dict\u001b[39;00m\n\u001b[1;32m     <a href='vscode-notebook-cell://wsl%2Bubuntu/home/david/workspace/brief-devops-kevin-duranty/My-Credit/notebook-playground.ipynb#X23sdnNjb2RlLXJlbW90ZQ%3D%3D?line=9'>10</a>\u001b[0m \u001b[39m# Convert into DataFrame\u001b[39;00m\n\u001b[1;32m     <a href='vscode-notebook-cell://wsl%2Bubuntu/home/david/workspace/brief-devops-kevin-duranty/My-Credit/notebook-playground.ipynb#X23sdnNjb2RlLXJlbW90ZQ%3D%3D?line=10'>11</a>\u001b[0m params_enc_df \u001b[39m=\u001b[39m pd\u001b[39m.\u001b[39mDataFrame(params_enc, index\u001b[39m=\u001b[39m[\u001b[39m0\u001b[39m]) \u001b[39m# df\u001b[39;00m\n",
      "\u001b[0;31mNameError\u001b[0m: name 'encode_features' is not defined"
     ]
    }
   ],
   "source": [
    "ex_json_dict = eval(\"\"\"{'age': 34, 'job': 'entrepreneur', 'marital': 'married', 'education': 'tertiary', 'default': 'yes', 'balance': 35266, 'housing': 'yes', 'loan': 'no', 'contact': 'telephone', 'day': 15, 'month': 'aug', 'duration': 80, 'campaign': 2, 'pdays': 1, 'previous': 5}\"\"\")\n",
    "make_prediction(ex_json_dict)"
   ]
  }
 ],
 "metadata": {
  "kernelspec": {
   "display_name": ".env",
   "language": "python",
   "name": "python3"
  },
  "language_info": {
   "codemirror_mode": {
    "name": "ipython",
    "version": 3
   },
   "file_extension": ".py",
   "mimetype": "text/x-python",
   "name": "python",
   "nbconvert_exporter": "python",
   "pygments_lexer": "ipython3",
   "version": "3.10.6"
  },
  "orig_nbformat": 4
 },
 "nbformat": 4,
 "nbformat_minor": 2
}
