{
 "cells": [
  {
   "cell_type": "code",
   "execution_count": 69,
   "metadata": {},
   "outputs": [
    {
     "data": {
      "text/plain": [
       "<Response [200]>"
      ]
     },
     "execution_count": 69,
     "metadata": {},
     "output_type": "execute_result"
    }
   ],
   "source": [
    "import requests\n",
    "\n",
    "params_dict = {'n' : 5}\n",
    "\n",
    "response = requests.post(\n",
    "  'http://localhost:8000/bank_loan',\n",
    "  json = params_dict\n",
    ")\n",
    "response"
   ]
  },
  {
   "cell_type": "code",
   "execution_count": 70,
   "metadata": {},
   "outputs": [
    {
     "data": {
      "text/plain": [
       "{'prediction': 1, 'score': 0.87, 'n': 5}"
      ]
     },
     "execution_count": 70,
     "metadata": {},
     "output_type": "execute_result"
    }
   ],
   "source": [
    "resp_json = response.json()\n",
    "resp_json"
   ]
  },
  {
   "cell_type": "code",
   "execution_count": 53,
   "metadata": {},
   "outputs": [
    {
     "data": {
      "text/plain": [
       "dict"
      ]
     },
     "execution_count": 53,
     "metadata": {},
     "output_type": "execute_result"
    }
   ],
   "source": [
    "type(resp_json)"
   ]
  },
  {
   "cell_type": "code",
   "execution_count": 54,
   "metadata": {},
   "outputs": [
    {
     "data": {
      "text/plain": [
       "1"
      ]
     },
     "execution_count": 54,
     "metadata": {},
     "output_type": "execute_result"
    }
   ],
   "source": [
    "resp_json['prediction']"
   ]
  },
  {
   "cell_type": "code",
   "execution_count": 64,
   "metadata": {},
   "outputs": [
    {
     "data": {
      "text/plain": [
       "1"
      ]
     },
     "execution_count": 64,
     "metadata": {},
     "output_type": "execute_result"
    }
   ],
   "source": [
    "response.json()['prediction']"
   ]
  },
  {
   "cell_type": "code",
   "execution_count": 79,
   "metadata": {},
   "outputs": [],
   "source": [
    "dict_bool = {\n",
    "    'test' : True\n",
    "}"
   ]
  },
  {
   "cell_type": "code",
   "execution_count": 82,
   "metadata": {},
   "outputs": [
    {
     "data": {
      "text/plain": [
       "str"
      ]
     },
     "execution_count": 82,
     "metadata": {},
     "output_type": "execute_result"
    }
   ],
   "source": [
    "data_json = json.dumps(dict_bool)\n",
    "type(data_json)"
   ]
  },
  {
   "cell_type": "code",
   "execution_count": 81,
   "metadata": {},
   "outputs": [
    {
     "data": {
      "text/plain": [
       "{'test': True}"
      ]
     },
     "execution_count": 81,
     "metadata": {},
     "output_type": "execute_result"
    }
   ],
   "source": [
    "json.loads(data_json)"
   ]
  },
  {
   "cell_type": "code",
   "execution_count": 1,
   "metadata": {},
   "outputs": [
    {
     "data": {
      "text/plain": [
       "[array(['Female', 'Male'], dtype=object), array(['dev', 'prod'], dtype=object)]"
      ]
     },
     "execution_count": 1,
     "metadata": {},
     "output_type": "execute_result"
    }
   ],
   "source": [
    "from sklearn.preprocessing import OneHotEncoder\n",
    "\n",
    "enc = OneHotEncoder(handle_unknown='ignore')\n",
    "X = [['Male', 'dev'], ['Female', 'prod'], ['Female', 'dev']]\n",
    "enc.fit(X)\n",
    "enc.categories_"
   ]
  },
  {
   "cell_type": "code",
   "execution_count": 15,
   "metadata": {},
   "outputs": [
    {
     "name": "stdout",
     "output_type": "stream",
     "text": [
      "30\n"
     ]
    }
   ],
   "source": [
    "import json\n",
    "\n",
    "# some JSON:\n",
    "x =  '{ \"name\":\"John\", \"age\":30, \"city\":\"New York\"}'\n",
    "\n",
    "# parse x:\n",
    "y = json.loads(x)\n",
    "\n",
    "# the result is a Python dictionary:\n",
    "print(y[\"age\"])"
   ]
  },
  {
   "cell_type": "code",
   "execution_count": 13,
   "metadata": {},
   "outputs": [
    {
     "name": "stdout",
     "output_type": "stream",
     "text": [
      "<class 'str'>\n"
     ]
    }
   ],
   "source": [
    "import json\n",
    "ex_json_str = \"\"\"{'age': 25, 'job': None, 'marital': 'Célibataire', 'education': 'Inconnu', 'default': False, 'balance': 30000, 'housing': False, 'loan': False, 'contact': 'inconnu', 'day': None, 'month': None, 'duration': 0, 'campaign': 0, 'pdays': False, 'previous': 0}\"\"\"\n",
    "json_dict = json.loads(ex_json_str)\n",
    "json_dict"
   ]
  },
  {
   "cell_type": "code",
   "execution_count": 18,
   "metadata": {},
   "outputs": [
    {
     "data": {
      "text/plain": [
       "{'age': 25,\n",
       " 'job': None,\n",
       " 'marital': 'Célibataire',\n",
       " 'education': 'Inconnu',\n",
       " 'default': False,\n",
       " 'balance': 30000,\n",
       " 'housing': False,\n",
       " 'loan': False,\n",
       " 'contact': 'inconnu',\n",
       " 'day': None,\n",
       " 'month': None,\n",
       " 'duration': 0,\n",
       " 'campaign': 0,\n",
       " 'pdays': False,\n",
       " 'previous': 0}"
      ]
     },
     "execution_count": 18,
     "metadata": {},
     "output_type": "execute_result"
    }
   ],
   "source": [
    "eval(\"{'age': 25, 'job': None, 'marital': 'Célibataire', 'education': 'Inconnu', 'default': False, 'balance': 30000, 'housing': False, 'loan': False, 'contact': 'inconnu', 'day': None, 'month': None, 'duration': 0, 'campaign': 0, 'pdays': False, 'previous': 0}\")"
   ]
  },
  {
   "cell_type": "code",
   "execution_count": 22,
   "metadata": {},
   "outputs": [],
   "source": [
    "import os \n",
    "\n",
    "# Import encoding dictionnary\n",
    "def import_json_file(file_path):\n",
    "  if os.path.exists(file_path):\n",
    "    with open(file_path, \"r\") as f:\n",
    "        data_json = json.load(f)\n",
    "  else:\n",
    "    print(\"The file does not exist.\")\n",
    "  return data_json\n",
    "\n",
    "encode_dict = import_json_file(\"encode_dict.json\")\n"
   ]
  },
  {
   "cell_type": "code",
   "execution_count": null,
   "metadata": {},
   "outputs": [],
   "source": [
    "ex_json_str = \"{'age': 25, 'job': None, 'marital': 'Célibataire', 'education': 'Inconnu', 'default': False, 'balance': 30000, 'housing': False, 'loan': False, 'contact': 'inconnu', 'day': None, 'month': None, 'duration': 0, 'campaign': 0, 'pdays': False, 'previous': 0}\"\n",
    "ex_json_dict = eval(ex_json_str)\n",
    "\n",
    "def encode_features(params_json_dict):\n",
    "\n",
    "    return params_dict_encoded\n"
   ]
  }
 ],
 "metadata": {
  "kernelspec": {
   "display_name": ".env",
   "language": "python",
   "name": "python3"
  },
  "language_info": {
   "codemirror_mode": {
    "name": "ipython",
    "version": 3
   },
   "file_extension": ".py",
   "mimetype": "text/x-python",
   "name": "python",
   "nbconvert_exporter": "python",
   "pygments_lexer": "ipython3",
   "version": "3.10.6"
  },
  "orig_nbformat": 4
 },
 "nbformat": 4,
 "nbformat_minor": 2
}
