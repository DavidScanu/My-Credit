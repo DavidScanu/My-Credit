{
 "cells": [
  {
   "cell_type": "markdown",
   "metadata": {},
   "source": [
    "# Playground Notebook"
   ]
  },
  {
   "cell_type": "markdown",
   "metadata": {},
   "source": [
    "## Requests"
   ]
  },
  {
   "cell_type": "code",
   "execution_count": 88,
   "metadata": {},
   "outputs": [],
   "source": [
    "import requests"
   ]
  },
  {
   "cell_type": "markdown",
   "metadata": {},
   "source": [
    "### Dictionnaires des paramètres pour la prédiction"
   ]
  },
  {
   "cell_type": "code",
   "execution_count": 89,
   "metadata": {},
   "outputs": [],
   "source": [
    "# Simple quotes dictionnary\n",
    "ex_json_dict_simple = {'age': 34, 'job': 'entrepreneur', 'marital': 'married', 'education': 'tertiary', 'default': 'yes', 'balance': 35266, 'housing': 'yes', 'loan': 'no', 'contact': 'telephone', 'day': 15, 'month': 'aug', 'duration': 80, 'campaign': 2, 'pdays': 1, 'previous': 5}"
   ]
  },
  {
   "cell_type": "code",
   "execution_count": 90,
   "metadata": {},
   "outputs": [],
   "source": [
    "# Double quotes dictionnary\n",
    "ex_json_dict_double = {\n",
    "  \"age\": 34,\n",
    "  \"job\": \"entrepreneur\",\n",
    "  \"marital\": \"married\",\n",
    "  \"education\": \"tertiary\",\n",
    "  \"default\": \"yes\",\n",
    "  \"balance\": 35266,\n",
    "  \"housing\": \"yes\",\n",
    "  \"loan\": \"no\",\n",
    "  \"contact\": \"telephone\",\n",
    "  \"day\": 15,\n",
    "  \"month\": \"aug\",\n",
    "  \"duration\": 80,\n",
    "  \"campaign\": 2,\n",
    "  \"pdays\": 1,\n",
    "  \"previous\": 5\n",
    "}"
   ]
  },
  {
   "cell_type": "markdown",
   "metadata": {},
   "source": [
    "### Requète locale"
   ]
  },
  {
   "cell_type": "code",
   "execution_count": 91,
   "metadata": {},
   "outputs": [
    {
     "name": "stdout",
     "output_type": "stream",
     "text": [
      "<Response [200]>\n",
      "{'prediction': 0, 'score': 0.9918603897094727}\n",
      "<class 'dict'>\n"
     ]
    }
   ],
   "source": [
    "# Request with simple quotes dictionary\n",
    "response = requests.post(\n",
    "  'http://localhost:8000/predict',\n",
    "  json = ex_json_dict_simple\n",
    ")\n",
    "print(response)\n",
    "print(response.json())\n",
    "print(type(response.json()))"
   ]
  },
  {
   "cell_type": "code",
   "execution_count": 92,
   "metadata": {},
   "outputs": [
    {
     "name": "stdout",
     "output_type": "stream",
     "text": [
      "<Response [200]>\n",
      "{'prediction': 0, 'score': 0.9918603897094727}\n",
      "<class 'dict'>\n"
     ]
    }
   ],
   "source": [
    "# Request with double quotes dictionary\n",
    "response = requests.post(\n",
    "  'http://localhost:8000/predict',\n",
    "  json = ex_json_dict_double\n",
    ")\n",
    "print(response)\n",
    "print(response.json())\n",
    "print(type(response.json()))"
   ]
  },
  {
   "cell_type": "markdown",
   "metadata": {},
   "source": [
    "## Requète vers le endpoint en ligne\n",
    "\n",
    "- https://api-isen-g4-6efab73bbf58.herokuapp.com/docs"
   ]
  },
  {
   "cell_type": "code",
   "execution_count": 93,
   "metadata": {},
   "outputs": [],
   "source": [
    "req_url = \"https://api-isen-g4-6efab73bbf58.herokuapp.com/predict\""
   ]
  },
  {
   "cell_type": "code",
   "execution_count": 94,
   "metadata": {},
   "outputs": [
    {
     "data": {
      "text/plain": [
       "<Response [200]>"
      ]
     },
     "execution_count": 94,
     "metadata": {},
     "output_type": "execute_result"
    }
   ],
   "source": [
    "response = requests.post(\n",
    "  req_url,\n",
    "  json = ex_json_dict_simple\n",
    ")\n",
    "response"
   ]
  },
  {
   "cell_type": "code",
   "execution_count": 95,
   "metadata": {},
   "outputs": [
    {
     "data": {
      "text/plain": [
       "<Response [200]>"
      ]
     },
     "execution_count": 95,
     "metadata": {},
     "output_type": "execute_result"
    }
   ],
   "source": [
    "response = requests.post(\n",
    "  req_url,\n",
    "  json = ex_json_dict_double\n",
    ")\n",
    "response"
   ]
  },
  {
   "cell_type": "markdown",
   "metadata": {},
   "source": [
    "## OneHotEncoder example"
   ]
  },
  {
   "cell_type": "code",
   "execution_count": 96,
   "metadata": {},
   "outputs": [
    {
     "data": {
      "text/plain": [
       "[array(['Female', 'Male'], dtype=object), array(['dev', 'prod'], dtype=object)]"
      ]
     },
     "execution_count": 96,
     "metadata": {},
     "output_type": "execute_result"
    }
   ],
   "source": [
    "from sklearn.preprocessing import OneHotEncoder\n",
    "\n",
    "enc = OneHotEncoder(handle_unknown='ignore')\n",
    "X = [['Male', 'dev'], ['Female', 'prod'], ['Female', 'dev']]\n",
    "enc.fit(X)\n",
    "enc.categories_"
   ]
  }
 ],
 "metadata": {
  "kernelspec": {
   "display_name": ".env",
   "language": "python",
   "name": "python3"
  },
  "language_info": {
   "codemirror_mode": {
    "name": "ipython",
    "version": 3
   },
   "file_extension": ".py",
   "mimetype": "text/x-python",
   "name": "python",
   "nbconvert_exporter": "python",
   "pygments_lexer": "ipython3",
   "version": "3.10.6"
  },
  "orig_nbformat": 4
 },
 "nbformat": 4,
 "nbformat_minor": 2
}
