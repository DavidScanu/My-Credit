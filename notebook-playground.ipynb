{
 "cells": [
  {
   "cell_type": "code",
   "execution_count": 22,
   "metadata": {},
   "outputs": [
    {
     "data": {
      "text/plain": [
       "<Response [500]>"
      ]
     },
     "execution_count": 22,
     "metadata": {},
     "output_type": "execute_result"
    }
   ],
   "source": [
    "import requests\n",
    "\n",
    "ex_json_dict = eval(\"\"\"{'age': 34, 'job': 'entrepreneur', 'marital': 'married', 'education': 'tertiary', 'default': 'yes', 'balance': 35266, 'housing': 'yes', 'loan': 'no', 'contact': 'telephone', 'day': 15, 'month': 'aug', 'duration': 80, 'campaign': 2, 'pdays': 1, 'previous': 5}\"\"\")\n",
    "\n",
    "response = requests.post(\n",
    "  'http://localhost:8000/predict',\n",
    "  json = ex_json_dict\n",
    ")\n",
    "response"
   ]
  },
  {
   "cell_type": "code",
   "execution_count": 21,
   "metadata": {},
   "outputs": [
    {
     "data": {
      "text/plain": [
       "{'age': 34,\n",
       " 'job': 'entrepreneur',\n",
       " 'marital': 'married',\n",
       " 'education': 'tertiary',\n",
       " 'default': 'yes',\n",
       " 'balance': 35266,\n",
       " 'housing': 'yes',\n",
       " 'loan': 'no',\n",
       " 'contact': 'telephone',\n",
       " 'day': 15,\n",
       " 'month': 'aug',\n",
       " 'duration': 80,\n",
       " 'campaign': 2,\n",
       " 'pdays': 1,\n",
       " 'previous': 5}"
      ]
     },
     "execution_count": 21,
     "metadata": {},
     "output_type": "execute_result"
    }
   ],
   "source": [
    "resp_json = response.json()\n",
    "resp_json"
   ]
  },
  {
   "cell_type": "code",
   "execution_count": 19,
   "metadata": {},
   "outputs": [
    {
     "data": {
      "text/plain": [
       "dict"
      ]
     },
     "execution_count": 19,
     "metadata": {},
     "output_type": "execute_result"
    }
   ],
   "source": [
    "type(resp_json)"
   ]
  },
  {
   "cell_type": "code",
   "execution_count": 54,
   "metadata": {},
   "outputs": [
    {
     "data": {
      "text/plain": [
       "1"
      ]
     },
     "execution_count": 54,
     "metadata": {},
     "output_type": "execute_result"
    }
   ],
   "source": [
    "resp_json['prediction']"
   ]
  },
  {
   "cell_type": "code",
   "execution_count": 64,
   "metadata": {},
   "outputs": [
    {
     "data": {
      "text/plain": [
       "1"
      ]
     },
     "execution_count": 64,
     "metadata": {},
     "output_type": "execute_result"
    }
   ],
   "source": [
    "response.json()['prediction']"
   ]
  },
  {
   "cell_type": "code",
   "execution_count": 79,
   "metadata": {},
   "outputs": [],
   "source": [
    "dict_bool = {\n",
    "    'test' : True\n",
    "}"
   ]
  },
  {
   "cell_type": "code",
   "execution_count": 82,
   "metadata": {},
   "outputs": [
    {
     "data": {
      "text/plain": [
       "str"
      ]
     },
     "execution_count": 82,
     "metadata": {},
     "output_type": "execute_result"
    }
   ],
   "source": [
    "data_json = json.dumps(dict_bool)\n",
    "type(data_json)"
   ]
  },
  {
   "cell_type": "code",
   "execution_count": 81,
   "metadata": {},
   "outputs": [
    {
     "data": {
      "text/plain": [
       "{'test': True}"
      ]
     },
     "execution_count": 81,
     "metadata": {},
     "output_type": "execute_result"
    }
   ],
   "source": [
    "json.loads(data_json)"
   ]
  },
  {
   "cell_type": "code",
   "execution_count": 1,
   "metadata": {},
   "outputs": [
    {
     "data": {
      "text/plain": [
       "[array(['Female', 'Male'], dtype=object), array(['dev', 'prod'], dtype=object)]"
      ]
     },
     "execution_count": 1,
     "metadata": {},
     "output_type": "execute_result"
    }
   ],
   "source": [
    "from sklearn.preprocessing import OneHotEncoder\n",
    "\n",
    "enc = OneHotEncoder(handle_unknown='ignore')\n",
    "X = [['Male', 'dev'], ['Female', 'prod'], ['Female', 'dev']]\n",
    "enc.fit(X)\n",
    "enc.categories_"
   ]
  },
  {
   "cell_type": "code",
   "execution_count": 8,
   "metadata": {},
   "outputs": [
    {
     "name": "stdout",
     "output_type": "stream",
     "text": [
      "30\n"
     ]
    }
   ],
   "source": [
    "import json\n",
    "\n",
    "# some JSON:\n",
    "x =  '{ \"name\":\"John\", \"age\":30, \"city\":\"New York\"}'\n",
    "\n",
    "# parse x:\n",
    "y = json.loads(x)\n",
    "\n",
    "# the result is a Python dictionary:\n",
    "print(y[\"age\"])"
   ]
  },
  {
   "cell_type": "code",
   "execution_count": 9,
   "metadata": {},
   "outputs": [
    {
     "data": {
      "text/plain": [
       "{'age': 25,\n",
       " 'job': 'management',\n",
       " 'marital': 'married',\n",
       " 'education': 'secondary',\n",
       " 'default': False,\n",
       " 'balance': 30000,\n",
       " 'housing': False,\n",
       " 'loan': False,\n",
       " 'contact': 'inconnu',\n",
       " 'day': None,\n",
       " 'month': None,\n",
       " 'duration': 0,\n",
       " 'campaign': 0,\n",
       " 'pdays': False,\n",
       " 'previous': 0}"
      ]
     },
     "execution_count": 9,
     "metadata": {},
     "output_type": "execute_result"
    }
   ],
   "source": [
    "eval(\"{'age': 25, 'job': 'management', 'marital': 'married', 'education': 'secondary', 'default': False, 'balance': 30000, 'housing': False, 'loan': False, 'contact': 'inconnu', 'day': None, 'month': None, 'duration': 0, 'campaign': 0, 'pdays': False, 'previous': 0}\")"
   ]
  },
  {
   "cell_type": "code",
   "execution_count": 10,
   "metadata": {},
   "outputs": [
    {
     "data": {
      "text/plain": [
       "{'no': 0, 'yes': 1}"
      ]
     },
     "execution_count": 10,
     "metadata": {},
     "output_type": "execute_result"
    }
   ],
   "source": [
    "import os \n",
    "\n",
    "# Import encoding dictionnary\n",
    "def import_json_file(file_path):\n",
    "  if os.path.exists(file_path):\n",
    "    with open(file_path, \"r\") as f:\n",
    "        data_json = json.load(f)\n",
    "  else:\n",
    "    print(\"The file does not exist.\")\n",
    "  return data_json\n",
    "\n",
    "encode_dict = import_json_file(\"encode_dict.json\")\n",
    "encode_dict['default']"
   ]
  },
  {
   "cell_type": "code",
   "execution_count": 16,
   "metadata": {},
   "outputs": [
    {
     "data": {
      "text/plain": [
       "{'age': 25,\n",
       " 'job': 'management',\n",
       " 'marital': 'married',\n",
       " 'education': 'secondary',\n",
       " 'default': 'no',\n",
       " 'balance': 30000,\n",
       " 'housing': 'yes',\n",
       " 'loan': 'no',\n",
       " 'contact': 'unknown',\n",
       " 'day': 5,\n",
       " 'month': 'dec',\n",
       " 'duration': 3,\n",
       " 'campaign': 2,\n",
       " 'pdays': 0,\n",
       " 'previous': 0}"
      ]
     },
     "execution_count": 16,
     "metadata": {},
     "output_type": "execute_result"
    }
   ],
   "source": [
    "ex_json_str = \"{'age': 25, 'job': 'management', 'marital': 'married', 'education': 'secondary', 'default': 'no', 'balance': 30000, 'housing': 'yes', 'loan': 'no', 'contact': 'unknown', 'day': 5, 'month': 'dec', 'duration': 3, 'campaign': 2, 'pdays': 0, 'previous': 0}\"\n",
    "ex_json_dict = eval(ex_json_str)\n",
    "ex_json_dict"
   ]
  },
  {
   "cell_type": "code",
   "execution_count": 17,
   "metadata": {},
   "outputs": [],
   "source": [
    "def encode_features(params_json_dict, encode_dict):\n",
    "    for key, value in params_json_dict.items():\n",
    "        # print(key, value)\n",
    "        if key in encode_dict:\n",
    "            if value != None:\n",
    "                value_encoded = encode_dict[key][value]\n",
    "                params_json_dict[key] = value_encoded\n",
    "    print(params_json_dict)\n",
    "    # return params_json_dict\n"
   ]
  },
  {
   "cell_type": "code",
   "execution_count": 18,
   "metadata": {},
   "outputs": [
    {
     "name": "stdout",
     "output_type": "stream",
     "text": [
      "{'age': 25, 'job': 4, 'marital': 1, 'education': 1, 'default': 0, 'balance': 30000, 'housing': 1, 'loan': 0, 'contact': 2, 'day': 5, 'month': 2, 'duration': 3, 'campaign': 2, 'pdays': 0, 'previous': 0}\n"
     ]
    }
   ],
   "source": [
    "encode_features(ex_json_dict, encode_dict)"
   ]
  },
  {
   "cell_type": "code",
   "execution_count": 66,
   "metadata": {},
   "outputs": [
    {
     "data": {
      "text/plain": [
       "0"
      ]
     },
     "execution_count": 66,
     "metadata": {},
     "output_type": "execute_result"
    }
   ],
   "source": [
    "encode_dict['job']['admin.']"
   ]
  }
 ],
 "metadata": {
  "kernelspec": {
   "display_name": ".env",
   "language": "python",
   "name": "python3"
  },
  "language_info": {
   "codemirror_mode": {
    "name": "ipython",
    "version": 3
   },
   "file_extension": ".py",
   "mimetype": "text/x-python",
   "name": "python",
   "nbconvert_exporter": "python",
   "pygments_lexer": "ipython3",
   "version": "3.10.6"
  },
  "orig_nbformat": 4
 },
 "nbformat": 4,
 "nbformat_minor": 2
}
